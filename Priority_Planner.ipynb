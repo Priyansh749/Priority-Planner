{
 "cells": [
  {
   "cell_type": "code",
   "execution_count": 1,
   "id": "a53fade0",
   "metadata": {},
   "outputs": [
    {
     "name": "stdout",
     "output_type": "stream",
     "text": [
      "How many tasks do you have? 7\n",
      "\n",
      "Enter the priority for Task 1: 5\n",
      "Enter the priority for Task 2: 3\n",
      "Enter the priority for Task 3: 7\n",
      "Enter the priority for Task 4: 2\n",
      "Enter the priority for Task 5: 7\n",
      "Enter the priority for Task 6: 9\n",
      "Enter the priority for Task 7: 1\n",
      "How many tasks would you like to include? 5\n",
      "\n",
      "Selected Tasks:\n",
      "1. Task 6 (Priority: 9)\n",
      "2. Task 3 (Priority: 7)\n",
      "3. Task 5 (Priority: 7)\n",
      "4. Task 1 (Priority: 5)\n",
      "5. Task 2 (Priority: 3)\n"
     ]
    }
   ],
   "source": [
    "# Collecting information about tasks\n",
    "number_of_tasks = int(input(\"How many tasks do you have? \"))\n",
    "print()\n",
    "tasks = []\n",
    "\n",
    "for i in range(number_of_tasks):\n",
    "    priority = int(input(f\"Enter the priority for Task {i + 1}: \"))\n",
    "    tasks.append((f\"Task {i + 1}\", priority))\n",
    "\n",
    "# Sorting tasks based on priority\n",
    "def get_priority(task):\n",
    "    return task[1]\n",
    "\n",
    "tasks.sort(key=get_priority, reverse=True)\n",
    "\n",
    "# Choosing no. tasks to include\n",
    "task_limit = int(input(\"How many tasks would you like to include? \"))\n",
    "\n",
    "final_tasks = tasks[:task_limit]\n",
    "\n",
    "# Displaying selected tasks\n",
    "print(\"\\nSelected Tasks:\")\n",
    "for i in range(len(final_tasks)):\n",
    "    task_name, priority = final_tasks[i]\n",
    "    print(f\"{i + 1}. {task_name} (Priority: {priority})\")"
   ]
  }
 ],
 "metadata": {
  "kernelspec": {
   "display_name": "Python 3 (ipykernel)",
   "language": "python",
   "name": "python3"
  },
  "language_info": {
   "codemirror_mode": {
    "name": "ipython",
    "version": 3
   },
   "file_extension": ".py",
   "mimetype": "text/x-python",
   "name": "python",
   "nbconvert_exporter": "python",
   "pygments_lexer": "ipython3",
   "version": "3.9.13"
  }
 },
 "nbformat": 4,
 "nbformat_minor": 5
}
